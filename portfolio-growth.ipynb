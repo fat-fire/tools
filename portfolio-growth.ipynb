{
 "cells": [
  {
   "cell_type": "markdown",
   "metadata": {},
   "source": [
    "# Portfolio Calculator\n",
    "\n",
    "This notebook provides tools to help make informed decisions about buying into a fund, ETF or stock based on some simplified assumptions. Such as:\n",
    "\n",
    "* the growth rate of the asset \n",
    "* expense ratio (how much the fund/asset charges you to hold it)\n",
    "* periodic contributions you make (eg. how much are you dollar cost averaging in)\n"
   ]
  },
  {
   "cell_type": "code",
   "execution_count": 1,
   "metadata": {},
   "outputs": [
    {
     "name": "stdout",
     "output_type": "stream",
     "text": [
      "libraries loaded successfully\n"
     ]
    }
   ],
   "source": [
    "# this code loads all the required libraries\n",
    "\n",
    "import pandas as pd \n",
    "import matplotlib.pyplot as plt \n",
    "\n",
    "print(\"libraries loaded successfully\")"
   ]
  },
  {
   "cell_type": "code",
   "execution_count": 2,
   "metadata": {},
   "outputs": [],
   "source": [
    "def print_series(name, series):\n",
    "    \"\"\"\n",
    "        this function is just used to display the data\n",
    "        in a tabular format\n",
    "    \"\"\"\n",
    "\n",
    "    print(\"Portfolio: \" + name)\n",
    "    print(\"year | portfolio val\")\n",
    "    print(\"-----+--------------\")\n",
    "    cnt = 0\n",
    "    divisor = \"    | \"\n",
    "    for point in series:\n",
    "        print(str(cnt) + divisor + str(point))\n",
    "        cnt = cnt + 1\n",
    "        if cnt >= 10:\n",
    "            divisor = \"   | \""
   ]
  },
  {
   "cell_type": "markdown",
   "metadata": {},
   "source": [
    "## Exponential Simulation\n",
    "\n",
    "The exponential simulation `run_simulation_exponential(p, r, years)` computes \n",
    "the growth rate using only the equation for compound interest.\n",
    "        \n",
    "Formula for compound interest:\n",
    "\n",
    "    FV = P(1 + r/n)^(nt)\n",
    "\n",
    "Where:\n",
    "\t•\tFV is the future value or ending balance.\n",
    "\t•\tP  is the initial principal amount, which is $100 in your case.\n",
    "\t•\tr  is the annual interest rate, which is 10% or 0.10 as a decimal.\n",
    "\t•\tn  is the number of times that interest is compounded per year. If it's compounded annually, n would be 1. \n",
    "    \n",
    "If it's compounded semi-annually, n would be 2, and so on.\n",
    "\t•\tt is the number of years the money is invested for, which is 5 in your case"
   ]
  },
  {
   "cell_type": "code",
   "execution_count": 3,
   "metadata": {},
   "outputs": [],
   "source": [
    "def run_simulation_exponential(p, r, years):\n",
    "    \n",
    "    # assume compounding happens annually\n",
    "    n = 1\n",
    "    \n",
    "    # fv -> future value of portfolio\n",
    "    \n",
    "    fv = p * (1 + r/n)**(n * years)\n",
    "\n",
    "    print(\"\\n\\n**********************************************\\n\")\n",
    "    print(\"value after \" + str(years) + \" years is: $ %.2f\" % fv)\n",
    "    print(\"\\n**********************************************\")\n",
    "    \n",
    "    return fv"
   ]
  },
  {
   "cell_type": "markdown",
   "metadata": {},
   "source": [
    "## Iteration Simulation\n",
    "\n",
    "The below code will use simplified math (eg no exponents) and a for loop\n",
    "to get some more fine grained information about what happens each year\n",
    "to the fund.\n",
    "\n",
    "Note the iteration simulation has additional parameters like\n",
    "* 3 different simulations with different growth rates assumptions\n",
    "    * conservative\n",
    "    * middle of the road\n",
    "    * aggressive\n",
    "* expense ratios to simulate ETF or managed fund expenses which take away from growth\n",
    "* yearly contributions"
   ]
  },
  {
   "cell_type": "code",
   "execution_count": 4,
   "metadata": {},
   "outputs": [],
   "source": [
    "def run_simulation_iterative(p, r, years):\n",
    "    \"\"\"\n",
    "        This section initiliazes the different variables\n",
    "        There are 3 different series\n",
    "        \n",
    "        c - conservative\n",
    "        m - middle road\n",
    "        a - aggressive\n",
    "        \n",
    "        each of the variables in this section are intended to be tweaked\n",
    "        for the specific scenario in consideration\n",
    "    \"\"\"\n",
    "    \n",
    "    # these are the growth rates (r -> rate)\n",
    "    r_conservative = 0.05\n",
    "    r_middle_road = r   \n",
    "    r_aggressive = 0.15\n",
    "\n",
    "    # compounded annually. See the for loop for details\n",
    "        \n",
    "    # This is assuming your contributions grow based on annual raises in income\n",
    "    # to account for this raises are considered as a percentage 0.0 - 1 (0 - 100%)\n",
    "    yr_raise = 0.00 \n",
    "    \n",
    "    # this is the expense ration of the fund/ETF/asset (0.01 -> 1% expense ratio)\n",
    "    er_c = 0.0\n",
    "    er_m = 0.01\n",
    "    er_a = 0.0\n",
    "\n",
    "    # this is different values for the yearly contributions to the fund\n",
    "    yr_contrib_c = 0\n",
    "    yr_contrib_m = 0\n",
    "    yr_contrib_a = 0\n",
    "    \n",
    "    # initialize the starting values for the different simulations\n",
    "    port_worth_c = p\n",
    "    port_worth_m = p\n",
    "    port_worth_m_no_fee = p\n",
    "    port_worth_a = p\n",
    "\n",
    "    # initialize arrays to hold the data\n",
    "    series_c = []\n",
    "    series_m = []\n",
    "    series_m_no_fee = []\n",
    "    series_a = []\n",
    "\n",
    "    # add the initial value of in the asset/fund to the array\n",
    "    series_c.append(port_worth_c)\n",
    "    series_m.append(port_worth_m)\n",
    "    series_m_no_fee.append(port_worth_m_no_fee)\n",
    "    series_a.append(port_worth_a)\n",
    "    \n",
    "    \n",
    "    \"\"\"\n",
    "        this code loop assumes compound rate (n=1) is equal to one\n",
    "        \n",
    "        The algorithm is:\n",
    "        \n",
    "            portfolio worth = current-value + yearly-growth + your-contributions\n",
    "            portfolio worth = new-value - the-expense-ratio\n",
    "            \n",
    "            then add the value for that year to the series\n",
    "    \"\"\"\n",
    "    for i in range(0,years):\n",
    "        port_worth_c = port_worth_c + (port_worth_c * r_conservative) + yr_contrib_c\n",
    "        port_worth_c = port_worth_c * (1 - er_c)\n",
    "        series_c.append(port_worth_c)\n",
    "\n",
    "        port_worth_m = port_worth_m + (port_worth_m * r_middle_road) + yr_contrib_m\n",
    "        port_worth_m = port_worth_m * (1 - er_m)\n",
    "        series_m.append(port_worth_m)\n",
    "\n",
    "        port_worth_m_no_fee = port_worth_m_no_fee + port_worth_m_no_fee * r_middle_road\n",
    "        port_worth_m_no_fee = port_worth_m_no_fee \n",
    "        series_m_no_fee.append(port_worth_m_no_fee)\n",
    "\n",
    "        port_worth_a = port_worth_a + (port_worth_a * r_aggressive) + yr_contrib_a\n",
    "        port_worth_a = port_worth_a * (1 - er_a)\n",
    "        series_a.append(port_worth_a)\n",
    "        \n",
    "        yr_contrib_c = yr_contrib_c + yr_contrib_c*yr_raise\n",
    "        yr_contrib_m = yr_contrib_m + yr_contrib_c*yr_raise\n",
    "        yr_contrib_a = yr_contrib_a + yr_contrib_c*yr_raise\n",
    "\n",
    "        \n",
    "    \"\"\"\n",
    "        Display all the final values of the different projections\n",
    "    \"\"\"\n",
    "    print(\"\")\n",
    "    print(\"Value of the portfolios after \" + str(years) + \" years:\")\n",
    "    print(\"------------------------------------\")    \n",
    "    print(\"  conservative: $\" + '{:,}'.format(port_worth_c))\n",
    "    print(\"  median:       $\" + '{:,}'.format(port_worth_m))\n",
    "    print(\"  median no fee $\" + '{:,}'.format(port_worth_m_no_fee))\n",
    "    print(\"  aggressive:   $\" + '{:,}'.format(port_worth_a))\n",
    "\n",
    "    \n",
    "    \"\"\"\n",
    "        Show how much these projections grew over the time period\n",
    "        in terms of percentages\n",
    "    \"\"\"\n",
    "    print(\"\\n\")\n",
    "    print(\"Growth percentages\")\n",
    "    print(\"------------------\")\n",
    "\n",
    "    median_percentage = ((port_worth_m - p)/p)*100\n",
    "    median_percentage_no_fee = ((port_worth_m_no_fee - p)/p)*100\n",
    "    \n",
    "    print(\"change median:        %.2f\" % median_percentage)\n",
    "    print(\"change median no fee  %.2f\" % median_percentage_no_fee)\n",
    "    \n",
    "    \n",
    "    \"\"\"\n",
    "        display the actual values per year\n",
    "    \"\"\"\n",
    "    print(\"\\n\")\n",
    "    print(\"Series values:\")\n",
    "    print_series(\"middle road\", series_m)\n",
    "    print(\"\")\n",
    "    print_series(\"middle road no fee\", series_m_no_fee)\n",
    "\n",
    "    \n",
    "    \"\"\"\n",
    "        setup and plot the graph\n",
    "    \"\"\"\n",
    "    print(\"\\n\")\n",
    "    g_c = pd.Series(series_c)\n",
    "    g_m = pd.Series(series_m)\n",
    "    g_m_no_fee = pd.Series(series_m_no_fee)\n",
    "    g_a = pd.Series(series_a)\n",
    "    \n",
    "    plt.rcParams['figure.figsize'] = [15, 9]\n",
    "    plt.title(\"Plot of all the projections. One data point per year\")\n",
    "    plt.xlabel(\"years\")\n",
    "    plt.ylabel(\"value in $\")\n",
    "    g_c.plot()\n",
    "    g_m.plot()\n",
    "    g_m_no_fee.plot()\n",
    "    g_a.plot()\n",
    "\n",
    "    # control the size of the ploy\n",
    "    plt.show() \n",
    "    \n",
    "    return port_worth_m_no_fee"
   ]
  },
  {
   "cell_type": "markdown",
   "metadata": {},
   "source": [
    "## Set the variables\n",
    "\n",
    "set the variables that will be used in the simulations"
   ]
  },
  {
   "cell_type": "code",
   "execution_count": 5,
   "metadata": {},
   "outputs": [],
   "source": [
    "# starting amount of the fund\n",
    "principal = 100\n",
    "\n",
    "growth_rate = 0.1\n",
    "\n",
    "# number of years to run the simulation\n",
    "years = 5"
   ]
  },
  {
   "cell_type": "markdown",
   "metadata": {},
   "source": [
    "## Run the iterative simulation"
   ]
  },
  {
   "cell_type": "code",
   "execution_count": 6,
   "metadata": {},
   "outputs": [
    {
     "name": "stdout",
     "output_type": "stream",
     "text": [
      "\n",
      "Value of the portfolios after 5 years:\n",
      "------------------------------------\n",
      "  conservative: $127.62815624999999\n",
      "  median:       $153.15789852644485\n",
      "  median no fee $161.051\n",
      "  aggressive:   $201.13571875\n",
      "\n",
      "\n",
      "Growth percentages\n",
      "------------------\n",
      "change median:        53.16\n",
      "change median no fee  61.05\n",
      "\n",
      "\n",
      "Series values:\n",
      "Portfolio: middle road\n",
      "year | portfolio val\n",
      "-----+--------------\n",
      "0    | 100\n",
      "1    | 108.9\n",
      "2    | 118.5921\n",
      "3    | 129.1467969\n",
      "4    | 140.64086182409997\n",
      "5    | 153.15789852644485\n",
      "\n",
      "Portfolio: middle road no fee\n",
      "year | portfolio val\n",
      "-----+--------------\n",
      "0    | 100\n",
      "1    | 110.0\n",
      "2    | 121.0\n",
      "3    | 133.1\n",
      "4    | 146.41\n",
      "5    | 161.051\n",
      "\n",
      "\n"
     ]
    },
    {
     "data": {
      "image/png": "[encoded data removed]",
      "text/plain": [
       "<Figure size 1080x648 with 1 Axes>"
      ]
     },
     "metadata": {
      "needs_background": "light"
     },
     "output_type": "display_data"
    }
   ],
   "source": [
    "fv_itr = run_simulation_iterative(principal, growth_rate, years)"
   ]
  },
  {
   "cell_type": "markdown",
   "metadata": {},
   "source": [
    "## Run the exponential Simulation"
   ]
  },
  {
   "cell_type": "code",
   "execution_count": 7,
   "metadata": {},
   "outputs": [
    {
     "name": "stdout",
     "output_type": "stream",
     "text": [
      "\n",
      "\n",
      "**********************************************\n",
      "\n",
      "value after 5 years is: $ 161.05\n",
      "\n",
      "**********************************************\n"
     ]
    }
   ],
   "source": [
    "fv_exp = run_simulation_exponential(principal, growth_rate, years)"
   ]
  },
  {
   "cell_type": "markdown",
   "metadata": {},
   "source": [
    "## Check the values are equal\n",
    "\n",
    "The middle of the road iterative solution and the exponential solution both only consider the growth rate of the fund so they should be equivalent. This code just makes sure that is the case."
   ]
  },
  {
   "cell_type": "code",
   "execution_count": 8,
   "metadata": {},
   "outputs": [
    {
     "name": "stdout",
     "output_type": "stream",
     "text": [
      "Success!\n",
      "Both iterative and exponential simulations are equal!\n"
     ]
    }
   ],
   "source": [
    "fv_itr = round(fv_itr, 2)\n",
    "fv_exp = round(fv_exp, 2)\n",
    "\n",
    "assert fv_itr == fv_exp\n",
    "\n",
    "print(\"Success!\\nBoth iterative and exponential simulations are equal!\")"
   ]
  }
 ],
 "metadata": {
  "kernelspec": {
   "display_name": "Python 3",
   "language": "python",
   "name": "python3"
  },
  "language_info": {
   "codemirror_mode": {
    "name": "ipython",
    "version": 3
   },
   "file_extension": ".py",
   "mimetype": "text/x-python",
   "name": "python",
   "nbconvert_exporter": "python",
   "pygments_lexer": "ipython3",
   "version": "3.8.5"
  }
 },
 "nbformat": 4,
 "nbformat_minor": 4
}
