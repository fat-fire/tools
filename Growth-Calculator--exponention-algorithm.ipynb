{
 "cells": [
  {
   "cell_type": "markdown",
   "metadata": {},
   "source": [
    "# Portfolio Calculator\n",
    "\n",
    "This notebook provides a simple program to help make informed decisions about buying into a fund or ETF based on some simplified assumptions. Such as:\n",
    "\n",
    "    the growth rate of the asset\n",
    "    expense ratio (how much the fund/asset charges you to hold it)\n",
    "    periodic contributions you make (eg. how much are you dollar cost averaging in)\n",
    "\n",
    "This program in this notebook is divided into sections to help walk the user through each section. The first code block is just loading the libraries needed to run the program.\n",
    "\n",
    "## Algorithm description\n",
    "This code uses the formula for compound interest.\n",
    "\n",
    "## Set the input variables\n"
   ]
  },
  {
   "cell_type": "code",
   "execution_count": 3,
   "metadata": {},
   "outputs": [],
   "source": [
    "# starting amount of the fund\n",
    "principal = 100\n",
    "\n",
    "growth_rate = 0.1\n",
    "\n",
    "# number of years to run the simulation\n",
    "years = 5"
   ]
  },
  {
   "cell_type": "markdown",
   "metadata": {},
   "source": [
    "## Exponential Simulation\n",
    "\n",
    "The exponential simulation `run_simulation_exponential(p, r, years)` computes \n",
    "the growth rate using only the equation for compound interest.\n",
    "        \n",
    "Formula for compound interest:\n",
    "\n",
    "    FV = P(1 + r/n)^(nt)\n",
    "\n",
    "Where:\n",
    " *\t**FV** is the future value or ending balance.\n",
    " *\t**P**  is the initial principal amount, which is $100 in this case.\n",
    " *\t**r**  is the annual interest rate, which is 10% or 0.10 as a decimal.\n",
    " *\t**n**  is the number of times that interest is compounded per year. If it's compounded annually, n would be 1. \n",
    "    \n",
    "If it's compounded semi-annually, n would be 2, and so on.\n",
    " *\tt is the number of years the money is invested for, which is 5 in your case"
   ]
  },
  {
   "cell_type": "code",
   "execution_count": 4,
   "metadata": {},
   "outputs": [
    {
     "name": "stdout",
     "output_type": "stream",
     "text": [
      "\n",
      "\n",
      "**********************************************\n",
      "\n",
      "value after 5 years is: $ 161.05\n",
      "\n",
      "**********************************************\n"
     ]
    }
   ],
   "source": [
    "def run_simulation_exponential(p, r, years):\n",
    "    \n",
    "    # assume compounding happens annually\n",
    "    n = 1\n",
    "    \n",
    "    # fv -> future value of portfolio\n",
    "    \n",
    "    fv = p * (1 + r/n)**(n * years)\n",
    "\n",
    "    print(\"\\n\\n**********************************************\\n\")\n",
    "    print(\"value after \" + str(years) + \" years is: $ %.2f\" % fv)\n",
    "    print(\"\\n**********************************************\")\n",
    "    \n",
    "    return fv\n",
    "\n",
    "fv_exp = run_simulation_exponential(principal, growth_rate, years)"
   ]
  },
  {
   "cell_type": "code",
   "execution_count": null,
   "metadata": {},
   "outputs": [],
   "source": []
  }
 ],
 "metadata": {
  "kernelspec": {
   "display_name": "Python 3",
   "language": "python",
   "name": "python3"
  },
  "language_info": {
   "codemirror_mode": {
    "name": "ipython",
    "version": 3
   },
   "file_extension": ".py",
   "mimetype": "text/x-python",
   "name": "python",
   "nbconvert_exporter": "python",
   "pygments_lexer": "ipython3",
   "version": "3.8.5"
  }
 },
 "nbformat": 4,
 "nbformat_minor": 4
}
